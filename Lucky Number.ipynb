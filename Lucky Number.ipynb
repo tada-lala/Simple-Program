# 1. Given the date of birth(dob) of a person, write a program to find his/her lucky number.
'''
    In numerology, a lucky number is often derived from a person's date of birth. 
    The process typically involves reducing the birthdate to a single digit or a master number between 1-9. 
    Steps to Find the Lucky Number:
    1. Get the birthdate in the format ddmmyyyy.
    2. Remove any non-numeric characters from the input, leaving only digits.
    3. Add all the digits of the birthdate together.
    4. If the sum is greater than 9, repeatedly add the digits of the result until a single digit is obtained.
    
    A lucky number is believed to hold special significance and influence over an individual's life-
    Personal Insights, Life Path Guidance, Compatibility, Fortune and Luck, Spiritual Growth
'''
# Regular expression library to filter out all the digits from user input. 
import re
# Function luckyNo with one parameter- dob
def luckyNo(dob):
    # local variable to hold the sum of the digits
    sum1 = 0
    while dob > 0:
        # Extract the last digit from dob and add it to the existing sum1 value
        sum1 += dob % 10
        # Using floor function to remove the last digit from dob 
        dob //= 10
    # Using control flow statements to check if the sum1 variable holds a value between 1-9
    if sum1 > 9:
        # A recursive function to go back until the resultant sum1 variable value is between 1-9
        return luckyNo(sum1)
    return sum1

#dob = int(input('Enter your date of birth (in format ddmmyyyy): '))
dob = input('Enter your date of birth (in format dd/mm/yyyy): ')
# Using re substitution method to filter out all the digits from user input. 
dob = int(re.sub(r'\D', '', dob))
# lucky_number variable hold the value when we call the user defined function with given argument 
lucky_number = sumdob(dob)
print(f'Your lucky number is {lucky_number}')
