{
 "cells": [
  {
   "cell_type": "code",
   "execution_count": null,
   "id": "b28461b0",
   "metadata": {},
   "outputs": [],
   "source": [
    "# Given the date of birth(dob) of a person, write a program to find his/her lucky number.\n",
    "'''\n",
    "    In numerology, a lucky number is often derived from a person's date of birth. \n",
    "    The process typically involves reducing the birthdate to a single digit or a master number between 1-9. \n",
    "    Steps to Find the Lucky Number:\n",
    "    1. Get the birthdate in the format ddmmyyyy.\n",
    "    2. Remove any non-numeric characters from the input, leaving only digits.\n",
    "    3. Add all the digits of the birthdate together.\n",
    "    4. If the sum is greater than 9, repeatedly add the digits of the result until a single digit is obtained.\n",
    "    \n",
    "    A lucky number is believed to hold special significance and influence over an individual's life-\n",
    "    Personal Insights, Life Path Guidance, Compatibility, Fortune and Luck, Spiritual Growth\n",
    "'''\n",
    "# Regular expression library to filter out all the digits from user input. \n",
    "import re\n",
    "# Function luckyNo with one parameter- dob\n",
    "def luckyNo(dob):\n",
    "    # local variable to hold the sum of the digits\n",
    "    sum1 = 0\n",
    "    while dob > 0:\n",
    "        # Extract the last digit from dob and add it to the existing sum1 value\n",
    "        sum1 += dob % 10\n",
    "        # Using floor function to remove the last digit from dob \n",
    "        dob //= 10\n",
    "    # Using control flow statements to check if the sum1 variable holds a value between 1-9\n",
    "    if sum1 > 9:\n",
    "        # A recursive function to go back until the resultant sum1 variable value is between 1-9\n",
    "        return luckyNo(sum1)\n",
    "    return sum1\n",
    "\n",
    "#dob = int(input('Enter your date of birth (in format ddmmyyyy): '))\n",
    "dob = input('Enter your date of birth (in format dd/mm/yyyy): ')\n",
    "# Using re substitution method to filter out all the digits from user input. \n",
    "dob = int(re.sub(r'\\D', '', dob))\n",
    "# lucky_number variable hold the value when we call the user defined function with given argument \n",
    "lucky_number = sumdob(dob)\n",
    "print(f'Your lucky number is {lucky_number}')"
   ]
  }
 ],
 "metadata": {
  "kernelspec": {
   "display_name": "Python 3 (ipykernel)",
   "language": "python",
   "name": "python3"
  },
  "language_info": {
   "codemirror_mode": {
    "name": "ipython",
    "version": 3
   },
   "file_extension": ".py",
   "mimetype": "text/x-python",
   "name": "python",
   "nbconvert_exporter": "python",
   "pygments_lexer": "ipython3",
   "version": "3.11.5"
  }
 },
 "nbformat": 4,
 "nbformat_minor": 5
}
