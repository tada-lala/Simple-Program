# Write a program to find the transpose of a matrix of order mxn.
'''
    The transpose of a matrix is obtained by swapping its rows with its columns. 
    For a matrix of mxn dimensions, the transpose of the matrix would be nxm dimensions 
    It is used in operations like finding the dot product and in solving linear equations.
    To find the transpose, interchange each element aij element with aji element. 
'''
# To make a random matrix of mxn 
m = int(input('Enter the number of rows: '))
n = int(input('Enter the number of columns: '))
# Using random library to generate random numbers 
import random
# User defined function to create a matrix of mxn 
def make(m,n):
    matrix = []
    for i in range(m):
        row=[]
        for j in range(n):
            row.append(random.randint(1,100))
        matrix.append(row)
    return matrix
#matrix variable holds the matrix made by calling make(m,n) function 
matrix = make(m,n)

#matrix = [[1,2,3], [1,2,2], [1,3,2],[1,2,3], [1,2,2], [1,3,2]]
print(f'The given matrix is \n{matrix}')
# User defined function transpose with 1 parameter-> the matrix 
def transpose(matrix):
    # variable tmatrix to hold the transpose of the given matrix
    tmatrix = []
    # using 2 loops with i traverses over the rows and j traverse over the elements in the row (column values) 
    for i in range(len(matrix[0])):
        # holds each row for tmatrix 
        row=[]
        for j in range(len(matrix)):
            # using list method append to add the elements to row list  
            row.append(matrix[j][i])
        # using list method append to add the row list into tmatrix list 
        tmatrix.append(row)
    return tmatrix
# calling the function 
print(f'The transpose of the given matrix is \n{transpose(matrix)}')
