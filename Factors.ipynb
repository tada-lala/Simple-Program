# Find Prime Number 
'''
    Prime numbers have exactly two distinct factors: 1 and themselves. 
    Composite numbers have more than two factors. 
    Factors are numbers that evenly divide another number. 
    Understanding these concepts is crucial in mathematics for number theory and simplifying fractions, 
    ensuring accurate calculations and problem-solving.
'''
def prime(num):
    # local variables 
    count, factors = 0,[]
    # All numbers has 1 and number itself as its factor
    # The highest factor after the number itself is num/2. 
    for i in range(2,num//2+1):
        if num%i==0:
            count += 1
            # finds the multiple of i which equals num
            f1 = num//i
            if f1 in factors:
                break
            factors.append(i)
            factors.append(f1)
    # prints if the number is prime
    if count > 0:  
        return ('This number is not a prime number', 'The factors of the numbers are:', factors)
    return ('This number is  a prime number')
# User prompt to get number 
num = int(input('Enter the number:'))   
# Call the function 
prime(num)
