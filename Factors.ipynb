{
 "cells": [
  {
   "cell_type": "code",
   "execution_count": null,
   "id": "0fd69bfe",
   "metadata": {},
   "outputs": [],
   "source": [
    "# Find Prime Number \n",
    "'''\n",
    "    Prime numbers have exactly two distinct factors: 1 and themselves. \n",
    "    Composite numbers have more than two factors. \n",
    "    Factors are numbers that evenly divide another number. \n",
    "    Understanding these concepts is crucial in mathematics for number theory and simplifying fractions, \n",
    "    ensuring accurate calculations and problem-solving.\n",
    "'''\n",
    "def prime(num):\n",
    "    # local variables \n",
    "    count, factors = 0,[]\n",
    "    # All numbers has 1 and number itself as its factor\n",
    "    # The highest factor after the number itself is num/2. \n",
    "    for i in range(2,num//2+1):\n",
    "        if num%i==0:\n",
    "            count += 1\n",
    "            # finds the multiple of i which equals num\n",
    "            f1 = num//i\n",
    "            if f1 in factors:\n",
    "                break\n",
    "            factors.append(i)\n",
    "            factors.append(f1)\n",
    "    # prints if the number is prime\n",
    "    if count > 0:  \n",
    "        return ('This number is not a prime number', 'The factors of the numbers are:', factors)\n",
    "    return ('This number is  a prime number')\n",
    "# User prompt to get number \n",
    "num = int(input('Enter the number:'))   \n",
    "# Call the function \n",
    "prime(num)"
   ]
  }
 ],
 "metadata": {
  "kernelspec": {
   "display_name": "Python 3 (ipykernel)",
   "language": "python",
   "name": "python3"
  },
  "language_info": {
   "codemirror_mode": {
    "name": "ipython",
    "version": 3
   },
   "file_extension": ".py",
   "mimetype": "text/x-python",
   "name": "python",
   "nbconvert_exporter": "python",
   "pygments_lexer": "ipython3",
   "version": "3.11.5"
  }
 },
 "nbformat": 4,
 "nbformat_minor": 5
}
