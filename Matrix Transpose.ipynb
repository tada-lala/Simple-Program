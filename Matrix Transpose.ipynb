{
 "cells": [
  {
   "cell_type": "code",
   "execution_count": null,
   "id": "53ca2eb5",
   "metadata": {},
   "outputs": [],
   "source": [
    "# Write a program to find the transpose of a matrix of order mxn.\n",
    "'''\n",
    "    The transpose of a matrix is obtained by swapping its rows with its columns. \n",
    "    For a matrix of mxn dimensions, the transpose of the matrix would be nxm dimensions \n",
    "    It is used in operations like finding the dot product and in solving linear equations.\n",
    "    To find the transpose, interchange each element aij element with aji element. \n",
    "'''\n",
    "# To make a random matrix of mxn \n",
    "m = int(input('Enter the number of rows: '))\n",
    "n = int(input('Enter the number of columns: '))\n",
    "# Using random library to generate random numbers \n",
    "import random\n",
    "# User defined function to create a matrix of mxn \n",
    "def make(m,n):\n",
    "    matrix = []\n",
    "    for i in range(m):\n",
    "        row=[]\n",
    "        for j in range(n):\n",
    "            row.append(random.randint(1,100))\n",
    "        matrix.append(row)\n",
    "    return matrix\n",
    "#matrix variable holds the matrix made by calling make(m,n) function \n",
    "matrix = make(m,n)\n",
    "\n",
    "#matrix = [[1,2,3], [1,2,2], [1,3,2],[1,2,3], [1,2,2], [1,3,2]]\n",
    "print(f'The given matrix is \\n{matrix}')\n",
    "# User defined function transpose with 1 parameter-> the matrix \n",
    "def transpose(matrix):\n",
    "    # variable tmatrix to hold the transpose of the given matrix\n",
    "    tmatrix = []\n",
    "    # using 2 loops with i traverses over the rows and j traverse over the elements in the row (column values) \n",
    "    for i in range(len(matrix[0])):\n",
    "        # holds each row for tmatrix \n",
    "        row=[]\n",
    "        for j in range(len(matrix)):\n",
    "            # using list method append to add the elements to row list  \n",
    "            row.append(matrix[j][i])\n",
    "        # using list method append to add the row list into tmatrix list \n",
    "        tmatrix.append(row)\n",
    "    return tmatrix\n",
    "# calling the function \n",
    "print(f'The transpose of the given matrix is \\n{transpose(matrix)}')"
   ]
  }
 ],
 "metadata": {
  "kernelspec": {
   "display_name": "Python 3 (ipykernel)",
   "language": "python",
   "name": "python3"
  },
  "language_info": {
   "codemirror_mode": {
    "name": "ipython",
    "version": 3
   },
   "file_extension": ".py",
   "mimetype": "text/x-python",
   "name": "python",
   "nbconvert_exporter": "python",
   "pygments_lexer": "ipython3",
   "version": "3.11.5"
  }
 },
 "nbformat": 4,
 "nbformat_minor": 5
}
